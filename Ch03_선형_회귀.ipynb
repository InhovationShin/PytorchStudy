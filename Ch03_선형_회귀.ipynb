{
  "nbformat": 4,
  "nbformat_minor": 0,
  "metadata": {
    "colab": {
      "provenance": []
    },
    "kernelspec": {
      "name": "python3",
      "display_name": "Python 3"
    },
    "language_info": {
      "name": "python"
    }
  },
  "cells": [
    {
      "cell_type": "markdown",
      "metadata": {
        "id": "xLdOjSp4XrjN"
      },
      "source": [
        "## 1) 선형 회귀"
      ]
    },
    {
      "cell_type": "markdown",
      "source": [
        "1. 기본 세팅"
      ],
      "metadata": {
        "id": "klpcclnEkh1c"
      }
    },
    {
      "cell_type": "code",
      "metadata": {
        "id": "-wVnzlqAR53k"
      },
      "source": [
        "import torch\n",
        "import torch.nn as nn\n",
        "import torch.nn.functional as F\n",
        "import torch.optim as optim"
      ],
      "execution_count": 1,
      "outputs": []
    },
    {
      "cell_type": "code",
      "metadata": {
        "colab": {
          "base_uri": "https://localhost:8080/"
        },
        "id": "vzFAXJmjS5OC",
        "outputId": "c1220ffa-3f98-4184-b967-1161fa414ce2"
      },
      "source": [
        "torch.manual_seed(1)"
      ],
      "execution_count": 2,
      "outputs": [
        {
          "output_type": "execute_result",
          "data": {
            "text/plain": [
              "<torch._C.Generator at 0x7fc8d8c032b0>"
            ]
          },
          "metadata": {},
          "execution_count": 2
        }
      ]
    },
    {
      "cell_type": "markdown",
      "source": [
        "2. 변수 선언"
      ],
      "metadata": {
        "id": "BoWnkzNakkP4"
      }
    },
    {
      "cell_type": "code",
      "metadata": {
        "id": "NZ2ogggpS767"
      },
      "source": [
        "x_train = torch.FloatTensor([[1], [2], [3]])\n",
        "y_train = torch.FloatTensor([[2], [4], [6]])"
      ],
      "execution_count": 3,
      "outputs": []
    },
    {
      "cell_type": "code",
      "metadata": {
        "colab": {
          "base_uri": "https://localhost:8080/"
        },
        "id": "734_w4f7TBuz",
        "outputId": "736ff3a5-78ef-490a-a13b-794e8a65523b"
      },
      "source": [
        "print(x_train)\n",
        "print(x_train.shape)"
      ],
      "execution_count": 4,
      "outputs": [
        {
          "output_type": "stream",
          "name": "stdout",
          "text": [
            "tensor([[1.],\n",
            "        [2.],\n",
            "        [3.]])\n",
            "torch.Size([3, 1])\n"
          ]
        }
      ]
    },
    {
      "cell_type": "code",
      "metadata": {
        "colab": {
          "base_uri": "https://localhost:8080/"
        },
        "id": "HFGj3qpPTDq6",
        "outputId": "ab9ba94d-32e6-4875-9618-8c460a6e7898"
      },
      "source": [
        "print(y_train)\n",
        "print(y_train.shape)"
      ],
      "execution_count": 5,
      "outputs": [
        {
          "output_type": "stream",
          "name": "stdout",
          "text": [
            "tensor([[2.],\n",
            "        [4.],\n",
            "        [6.]])\n",
            "torch.Size([3, 1])\n"
          ]
        }
      ]
    },
    {
      "cell_type": "markdown",
      "source": [
        "3. 가중치와 편향의 초기화"
      ],
      "metadata": {
        "id": "9EYqc8h_pzyU"
      }
    },
    {
      "cell_type": "code",
      "metadata": {
        "colab": {
          "base_uri": "https://localhost:8080/"
        },
        "id": "FR1s0GeBTHLW",
        "outputId": "0bc38bca-f77b-4c54-f00f-272fec9dec9a"
      },
      "source": [
        "# 가중치 W를 0으로 초기화 하고 학습을 통해 값이 변경되는 변수임을 명시\n",
        "W = torch.zeros(1, requires_grad=True)\n",
        "# 가중치 W를 출력\n",
        "print(W)"
      ],
      "execution_count": 6,
      "outputs": [
        {
          "output_type": "stream",
          "name": "stdout",
          "text": [
            "tensor([0.], requires_grad=True)\n"
          ]
        }
      ]
    },
    {
      "cell_type": "code",
      "metadata": {
        "colab": {
          "base_uri": "https://localhost:8080/"
        },
        "id": "CZKles9kTNj7",
        "outputId": "87a0772e-2c70-4b77-be6a-1f7a8ea301c7"
      },
      "source": [
        "b = torch.zeros(1, requires_grad=True)\n",
        "print(b)"
      ],
      "execution_count": 7,
      "outputs": [
        {
          "output_type": "stream",
          "name": "stdout",
          "text": [
            "tensor([0.], requires_grad=True)\n"
          ]
        }
      ]
    },
    {
      "cell_type": "markdown",
      "source": [
        "4. 가설 세우기"
      ],
      "metadata": {
        "id": "-uEOzeLEqlPX"
      }
    },
    {
      "cell_type": "code",
      "metadata": {
        "colab": {
          "base_uri": "https://localhost:8080/"
        },
        "id": "i6R_LtFiTSG1",
        "outputId": "4b72d9c3-047a-4ff7-d79e-b70acde341ce"
      },
      "source": [
        "hypothesis = x_train * W + b\n",
        "print(hypothesis)"
      ],
      "execution_count": 8,
      "outputs": [
        {
          "output_type": "stream",
          "name": "stdout",
          "text": [
            "tensor([[0.],\n",
            "        [0.],\n",
            "        [0.]], grad_fn=<AddBackward0>)\n"
          ]
        }
      ]
    },
    {
      "cell_type": "markdown",
      "source": [
        "5. 비용 함수 선언하기"
      ],
      "metadata": {
        "id": "FXT8Nuc7qs5P"
      }
    },
    {
      "cell_type": "code",
      "metadata": {
        "colab": {
          "base_uri": "https://localhost:8080/"
        },
        "id": "tF8Ht0hKTfti",
        "outputId": "79c09739-0808-4fef-c71a-52baa83702e6"
      },
      "source": [
        "# 앞서 배운 torch.mean으로 평균을 구한다.\n",
        "cost = torch.mean((hypothesis - y_train)**2)\n",
        "print(cost)"
      ],
      "execution_count": 9,
      "outputs": [
        {
          "output_type": "stream",
          "name": "stdout",
          "text": [
            "tensor(18.6667, grad_fn=<MeanBackward0>)\n"
          ]
        }
      ]
    },
    {
      "cell_type": "markdown",
      "source": [
        "6. 경사하강법 구현하기"
      ],
      "metadata": {
        "id": "pbVoGGU0q2FZ"
      }
    },
    {
      "cell_type": "code",
      "metadata": {
        "id": "VubKjn0YTrA_"
      },
      "source": [
        "optimizer = optim.SGD([W, b], lr=0.01)\n",
        "# 학습 대상인 W와 b가 SGD의 입력이 됨."
      ],
      "execution_count": 10,
      "outputs": []
    },
    {
      "cell_type": "code",
      "metadata": {
        "id": "EGACrM9kUIwZ"
      },
      "source": [
        "optimizer.zero_grad() # gradient를 0으로 초기화\n",
        "cost.backward() # 비용 함수를 미분하여 gradient 계산\n",
        "optimizer.step() # W와 b를 업데이트\n",
        "\n",
        "#하강법 최적화 함수 opimizer의 .step() 함수를 호출하여 \n",
        "#인수로 들어갔던 W와 b에서 리턴되는 변수들의 기울기에 학습률(learining rate) 0.01을 \n",
        "#곱하여 빼줌으로서 업데이트합니다."
      ],
      "execution_count": 11,
      "outputs": []
    },
    {
      "cell_type": "markdown",
      "source": [
        "7. 전체 코드"
      ],
      "metadata": {
        "id": "7U18V5_prTJc"
      }
    },
    {
      "cell_type": "code",
      "metadata": {
        "colab": {
          "base_uri": "https://localhost:8080/"
        },
        "id": "BRpm0sYqUR3b",
        "outputId": "5ba4d81a-fd95-4b43-afe5-c650121d74ba"
      },
      "source": [
        "# 데이터\n",
        "x_train = torch.FloatTensor([[1], [2], [3]])\n",
        "y_train = torch.FloatTensor([[2], [4], [6]])\n",
        "\n",
        "# 모델 초기화\n",
        "W = torch.zeros(1, requires_grad=True)\n",
        "b = torch.zeros(1, requires_grad=True)\n",
        "\n",
        "# optimizer 설정\n",
        "optimizer = optim.SGD([W, b], lr=0.01)\n",
        "\n",
        "nb_epochs = 1999\n",
        "for epoch in range(nb_epochs + 1):\n",
        "  # H(x) 계산\n",
        "  hypothesis = x_train * W + b\n",
        "\n",
        "  # cost 계산\n",
        "  cost = torch.mean((hypothesis - y_train) ** 2)\n",
        "\n",
        "  # cost로 H(x) 개선\n",
        "  optimizer.zero_grad() # 미분을 통해 얻은 기울기를 0으로 초기화합니다.\n",
        "  cost.backward() # 비용 함수를 미분하여 gradient 계산\n",
        "  optimizer.step() #위 backward를 통해 x - x*lr 로 경사하강법 실행\n",
        "  #경사 하강법은 비용 함수를 미분하여 이 함수의 기울기(gradient)를 구해서 비용이 최소화 되는 방향을 찾아내는 알고리즘\n",
        "\n",
        "  # 100번마다 로그 출력\n",
        "  if epoch % 100 == 0:\n",
        "      print('Epoch {:4d}/{} W: {:.3f}, b: {:.3f} Cost: {:.6f}'.format(\n",
        "          epoch, nb_epochs, W.item(), b.item(), cost.item()\n",
        "      ))\n"
      ],
      "execution_count": 12,
      "outputs": [
        {
          "output_type": "stream",
          "name": "stdout",
          "text": [
            "Epoch    0/1999 W: 0.187, b: 0.080 Cost: 18.666666\n",
            "Epoch  100/1999 W: 1.746, b: 0.578 Cost: 0.048171\n",
            "Epoch  200/1999 W: 1.800, b: 0.454 Cost: 0.029767\n",
            "Epoch  300/1999 W: 1.843, b: 0.357 Cost: 0.018394\n",
            "Epoch  400/1999 W: 1.876, b: 0.281 Cost: 0.011366\n",
            "Epoch  500/1999 W: 1.903, b: 0.221 Cost: 0.007024\n",
            "Epoch  600/1999 W: 1.924, b: 0.174 Cost: 0.004340\n",
            "Epoch  700/1999 W: 1.940, b: 0.136 Cost: 0.002682\n",
            "Epoch  800/1999 W: 1.953, b: 0.107 Cost: 0.001657\n",
            "Epoch  900/1999 W: 1.963, b: 0.084 Cost: 0.001024\n",
            "Epoch 1000/1999 W: 1.971, b: 0.066 Cost: 0.000633\n",
            "Epoch 1100/1999 W: 1.977, b: 0.052 Cost: 0.000391\n",
            "Epoch 1200/1999 W: 1.982, b: 0.041 Cost: 0.000242\n",
            "Epoch 1300/1999 W: 1.986, b: 0.032 Cost: 0.000149\n",
            "Epoch 1400/1999 W: 1.989, b: 0.025 Cost: 0.000092\n",
            "Epoch 1500/1999 W: 1.991, b: 0.020 Cost: 0.000057\n",
            "Epoch 1600/1999 W: 1.993, b: 0.016 Cost: 0.000035\n",
            "Epoch 1700/1999 W: 1.995, b: 0.012 Cost: 0.000022\n",
            "Epoch 1800/1999 W: 1.996, b: 0.010 Cost: 0.000013\n",
            "Epoch 1900/1999 W: 1.997, b: 0.008 Cost: 0.000008\n"
          ]
        }
      ]
    },
    {
      "cell_type": "markdown",
      "source": [
        "optimizer.zero_grad()가 필요한 이유"
      ],
      "metadata": {
        "id": "lCDHK9dirmiU"
      }
    },
    {
      "cell_type": "code",
      "metadata": {
        "colab": {
          "base_uri": "https://localhost:8080/"
        },
        "id": "lQvqxS4FW-uI",
        "outputId": "7b7432d3-7cd9-4b55-eb3c-eae02870500f"
      },
      "source": [
        "import torch\n",
        "w = torch.tensor(2.0, requires_grad=True)\n",
        "\n",
        "nb_epochs = 20\n",
        "for epoch in range(nb_epochs + 1):\n",
        "\n",
        "  z = 2*w\n",
        "\n",
        "  z.backward()\n",
        "  print('수식을 w로 미분한 값 : {}'.format(w.grad))"
      ],
      "execution_count": 13,
      "outputs": [
        {
          "output_type": "stream",
          "name": "stdout",
          "text": [
            "수식을 w로 미분한 값 : 2.0\n",
            "수식을 w로 미분한 값 : 4.0\n",
            "수식을 w로 미분한 값 : 6.0\n",
            "수식을 w로 미분한 값 : 8.0\n",
            "수식을 w로 미분한 값 : 10.0\n",
            "수식을 w로 미분한 값 : 12.0\n",
            "수식을 w로 미분한 값 : 14.0\n",
            "수식을 w로 미분한 값 : 16.0\n",
            "수식을 w로 미분한 값 : 18.0\n",
            "수식을 w로 미분한 값 : 20.0\n",
            "수식을 w로 미분한 값 : 22.0\n",
            "수식을 w로 미분한 값 : 24.0\n",
            "수식을 w로 미분한 값 : 26.0\n",
            "수식을 w로 미분한 값 : 28.0\n",
            "수식을 w로 미분한 값 : 30.0\n",
            "수식을 w로 미분한 값 : 32.0\n",
            "수식을 w로 미분한 값 : 34.0\n",
            "수식을 w로 미분한 값 : 36.0\n",
            "수식을 w로 미분한 값 : 38.0\n",
            "수식을 w로 미분한 값 : 40.0\n",
            "수식을 w로 미분한 값 : 42.0\n"
          ]
        }
      ]
    },
    {
      "cell_type": "markdown",
      "metadata": {
        "id": "twMh4scwXp1m"
      },
      "source": [
        "## 2) 자동 미분"
      ]
    },
    {
      "cell_type": "code",
      "metadata": {
        "id": "sZb09PMfXgF5"
      },
      "source": [
        "import torch"
      ],
      "execution_count": 14,
      "outputs": []
    },
    {
      "cell_type": "code",
      "metadata": {
        "id": "BXTRo7dWYCia"
      },
      "source": [
        "w = torch.tensor(2.0, requires_grad=True)"
      ],
      "execution_count": 15,
      "outputs": []
    },
    {
      "cell_type": "code",
      "metadata": {
        "id": "ERrN9RqgYI-Y"
      },
      "source": [
        "y = w**2\n",
        "z = 2*y + 5"
      ],
      "execution_count": 16,
      "outputs": []
    },
    {
      "cell_type": "code",
      "metadata": {
        "id": "wsNUqMavYNyW"
      },
      "source": [
        "z.backward()"
      ],
      "execution_count": 17,
      "outputs": []
    },
    {
      "cell_type": "code",
      "metadata": {
        "colab": {
          "base_uri": "https://localhost:8080/"
        },
        "id": "tNniI2ZmYUfO",
        "outputId": "07530d56-e63a-46e7-8a46-b21c87924cfd"
      },
      "source": [
        "print('수식을 w로 미분한 값 : {}'.format(w.grad))"
      ],
      "execution_count": 18,
      "outputs": [
        {
          "output_type": "stream",
          "name": "stdout",
          "text": [
            "수식을 w로 미분한 값 : 8.0\n"
          ]
        }
      ]
    },
    {
      "cell_type": "markdown",
      "metadata": {
        "id": "cI5vrB6oYgre"
      },
      "source": [
        "## 3) 다중 선형 회귀"
      ]
    },
    {
      "cell_type": "code",
      "metadata": {
        "id": "1UuapjWSYV_p"
      },
      "source": [
        "import torch\n",
        "import torch.nn as nn\n",
        "import torch.nn.functional as F\n",
        "import torch.optim as optim"
      ],
      "execution_count": 19,
      "outputs": []
    },
    {
      "cell_type": "code",
      "metadata": {
        "colab": {
          "base_uri": "https://localhost:8080/"
        },
        "id": "QWn04iIPoSIC",
        "outputId": "8c2a9c60-30de-49e7-ceb2-2af5fb2fe029"
      },
      "source": [
        "torch.manual_seed(1)"
      ],
      "execution_count": 20,
      "outputs": [
        {
          "output_type": "execute_result",
          "data": {
            "text/plain": [
              "<torch._C.Generator at 0x7fc8d8c032b0>"
            ]
          },
          "metadata": {},
          "execution_count": 20
        }
      ]
    },
    {
      "cell_type": "code",
      "metadata": {
        "id": "gxt161AeoU9H"
      },
      "source": [
        "# 훈련 데이터\n",
        "x1_train = torch.FloatTensor([[73], [93], [89], [96], [73]])\n",
        "x2_train = torch.FloatTensor([[80], [88], [91], [98], [66]])\n",
        "x3_train = torch.FloatTensor([[75], [93], [90], [100], [70]])\n",
        "y_train = torch.FloatTensor([[152], [185], [180], [196], [142]])"
      ],
      "execution_count": 21,
      "outputs": []
    },
    {
      "cell_type": "code",
      "metadata": {
        "id": "grdK_tkpoWxH"
      },
      "source": [
        "# 가중치 w와 편향 b 초기화\n",
        "w1 = torch.zeros(1, requires_grad=True)\n",
        "w2 = torch.zeros(1, requires_grad=True)\n",
        "w3 = torch.zeros(1, requires_grad=True)\n",
        "b = torch.zeros(1, requires_grad=True)"
      ],
      "execution_count": 22,
      "outputs": []
    },
    {
      "cell_type": "code",
      "metadata": {
        "colab": {
          "base_uri": "https://localhost:8080/"
        },
        "id": "RRPN0LvgoeJ_",
        "outputId": "6d53ec11-4666-41fb-9535-bdd90a1b32cb"
      },
      "source": [
        "# optimizer 설정\n",
        "optimizer = optim.SGD([w1, w2, w3, b], lr=1e-5)\n",
        "\n",
        "num_epochs = 1000\n",
        "\n",
        "for epoch in range(num_epochs + 1):\n",
        "\n",
        "    # H(x) 계산\n",
        "   hypothesis = x1_train * w1 + x2_train * w2 + x3_train * w3 + b\n",
        "\n",
        "    # cost 계산 \n",
        "   cost = torch.mean((hypothesis - y_train)**2)\n",
        "\n",
        "    # cost로 H(x) 개선 \n",
        "   optimizer.zero_grad()\n",
        "   cost.backward()\n",
        "   optimizer.step()\n",
        "\n",
        "    # 100번마다 로그 출력\n",
        "   if epoch % 100 == 0:\n",
        "     print('Epoch {:4d}/{} w1: {:.3f} w2: {:.3f} w3: {:.3f} b: {:.3f} Cost: {:.6f}'.format(\n",
        "          epoch, num_epochs, w1.item(), w2.item(), w3.item(), b.item(), cost.item()\n",
        "      ))"
      ],
      "execution_count": 23,
      "outputs": [
        {
          "output_type": "stream",
          "name": "stdout",
          "text": [
            "Epoch    0/1000 w1: 0.294 w2: 0.294 w3: 0.297 b: 0.003 Cost: 29661.800781\n",
            "Epoch  100/1000 w1: 0.674 w2: 0.661 w3: 0.676 b: 0.008 Cost: 1.563628\n",
            "Epoch  200/1000 w1: 0.679 w2: 0.655 w3: 0.677 b: 0.008 Cost: 1.497595\n",
            "Epoch  300/1000 w1: 0.684 w2: 0.649 w3: 0.677 b: 0.008 Cost: 1.435044\n",
            "Epoch  400/1000 w1: 0.689 w2: 0.643 w3: 0.678 b: 0.008 Cost: 1.375726\n",
            "Epoch  500/1000 w1: 0.694 w2: 0.638 w3: 0.678 b: 0.009 Cost: 1.319507\n",
            "Epoch  600/1000 w1: 0.699 w2: 0.633 w3: 0.679 b: 0.009 Cost: 1.266222\n",
            "Epoch  700/1000 w1: 0.704 w2: 0.627 w3: 0.679 b: 0.009 Cost: 1.215703\n",
            "Epoch  800/1000 w1: 0.709 w2: 0.622 w3: 0.679 b: 0.009 Cost: 1.167810\n",
            "Epoch  900/1000 w1: 0.713 w2: 0.617 w3: 0.680 b: 0.009 Cost: 1.122429\n",
            "Epoch 1000/1000 w1: 0.718 w2: 0.613 w3: 0.680 b: 0.009 Cost: 1.079390\n"
          ]
        }
      ]
    },
    {
      "cell_type": "markdown",
      "source": [
        "행렬 연산을 고려하여 파이토치로 구현하기"
      ],
      "metadata": {
        "id": "HvrmPnggs9Fp"
      }
    },
    {
      "cell_type": "code",
      "metadata": {
        "id": "MLPH4YKCpPuM"
      },
      "source": [
        "x_train  =  torch.FloatTensor([[73,  80,  75], \n",
        "                               [93,  88,  93], \n",
        "                               [89,  91,  80], \n",
        "                               [96,  98,  100],   \n",
        "                               [73,  66,  70]])  \n",
        "y_train  =  torch.FloatTensor([[152],  [185],  [180],  [196],  [142]])"
      ],
      "execution_count": 24,
      "outputs": []
    },
    {
      "cell_type": "code",
      "metadata": {
        "colab": {
          "base_uri": "https://localhost:8080/"
        },
        "id": "j7ZL8uZOqqva",
        "outputId": "15a99b47-9507-4880-cd95-de9dab3b4be2"
      },
      "source": [
        "print(x_train.shape)\n",
        "print(y_train.shape)\n",
        "print(x_train)\n",
        "print(y_train)"
      ],
      "execution_count": 25,
      "outputs": [
        {
          "output_type": "stream",
          "name": "stdout",
          "text": [
            "torch.Size([5, 3])\n",
            "torch.Size([5, 1])\n",
            "tensor([[ 73.,  80.,  75.],\n",
            "        [ 93.,  88.,  93.],\n",
            "        [ 89.,  91.,  80.],\n",
            "        [ 96.,  98., 100.],\n",
            "        [ 73.,  66.,  70.]])\n",
            "tensor([[152.],\n",
            "        [185.],\n",
            "        [180.],\n",
            "        [196.],\n",
            "        [142.]])\n"
          ]
        }
      ]
    },
    {
      "cell_type": "code",
      "metadata": {
        "id": "gtzvuPBPqwIr"
      },
      "source": [
        "# 가중치와 편향 선언\n",
        "w = torch.zeros((3,1), requires_grad=True)\n",
        "b = torch.zeros(1, requires_grad=True)"
      ],
      "execution_count": 26,
      "outputs": []
    },
    {
      "cell_type": "code",
      "metadata": {
        "id": "LGIDU6i-q715"
      },
      "source": [
        "hypothesis = x_train.matmul(w) + b"
      ],
      "execution_count": 27,
      "outputs": []
    },
    {
      "cell_type": "code",
      "metadata": {
        "id": "6Rr4ZJQzrvWn"
      },
      "source": [
        "optimizer = optim.SGD([w, b], lr=1e-5)"
      ],
      "execution_count": 28,
      "outputs": []
    },
    {
      "cell_type": "code",
      "metadata": {
        "colab": {
          "base_uri": "https://localhost:8080/"
        },
        "id": "Ag0L3ZnjrieI",
        "outputId": "6cf350fc-2a63-4ba6-fc9d-50d1eca0a146"
      },
      "source": [
        "nb_epochs = 20\n",
        "for epoch in range(nb_epochs + 1):\n",
        "\n",
        "    # H(x) 계산\n",
        "    # 편향 b는 브로드 캐스팅되어 각 샘플에 더해집니다.\n",
        "    hypothesis = x_train.matmul(w) + b\n",
        "\n",
        "    # cost 계산\n",
        "    cost = torch.mean((hypothesis - y_train) ** 2)\n",
        "\n",
        "    # cost로 H(x) 개선\n",
        "    optimizer.zero_grad()\n",
        "    cost.backward()\n",
        "    optimizer.step()\n",
        "\n",
        "    print('Epoch {:4d}/{} hypothesis: {} Cost: {:.6f}'.format(\n",
        "        epoch, nb_epochs, hypothesis.squeeze().detach(), cost.item()\n",
        "    ))\n"
      ],
      "execution_count": 29,
      "outputs": [
        {
          "output_type": "stream",
          "name": "stdout",
          "text": [
            "Epoch    0/20 hypothesis: tensor([0., 0., 0., 0., 0.]) Cost: 29661.800781\n",
            "Epoch    1/20 hypothesis: tensor([66.7178, 80.1701, 76.1025, 86.0194, 61.1565]) Cost: 9537.694336\n",
            "Epoch    2/20 hypothesis: tensor([104.5421, 125.6208, 119.2478, 134.7862,  95.8280]) Cost: 3069.590088\n",
            "Epoch    3/20 hypothesis: tensor([125.9858, 151.3882, 143.7087, 162.4333, 115.4844]) Cost: 990.670288\n",
            "Epoch    4/20 hypothesis: tensor([138.1429, 165.9963, 157.5768, 178.1071, 126.6283]) Cost: 322.481873\n",
            "Epoch    5/20 hypothesis: tensor([145.0350, 174.2780, 165.4395, 186.9928, 132.9461]) Cost: 107.717064\n",
            "Epoch    6/20 hypothesis: tensor([148.9423, 178.9730, 169.8976, 192.0301, 136.5279]) Cost: 38.687496\n",
            "Epoch    7/20 hypothesis: tensor([151.1574, 181.6346, 172.4254, 194.8856, 138.5585]) Cost: 16.499043\n",
            "Epoch    8/20 hypothesis: tensor([152.4131, 183.1435, 173.8590, 196.5043, 139.7097]) Cost: 9.365656\n",
            "Epoch    9/20 hypothesis: tensor([153.1250, 183.9988, 174.6723, 197.4217, 140.3625]) Cost: 7.071114\n",
            "Epoch   10/20 hypothesis: tensor([153.5285, 184.4835, 175.1338, 197.9415, 140.7325]) Cost: 6.331847\n",
            "Epoch   11/20 hypothesis: tensor([153.7572, 184.7582, 175.3958, 198.2360, 140.9424]) Cost: 6.092532\n",
            "Epoch   12/20 hypothesis: tensor([153.8868, 184.9138, 175.5449, 198.4026, 141.0613]) Cost: 6.013817\n",
            "Epoch   13/20 hypothesis: tensor([153.9602, 185.0019, 175.6299, 198.4969, 141.1288]) Cost: 5.986785\n",
            "Epoch   14/20 hypothesis: tensor([154.0017, 185.0517, 175.6785, 198.5500, 141.1671]) Cost: 5.976325\n",
            "Epoch   15/20 hypothesis: tensor([154.0252, 185.0798, 175.7065, 198.5800, 141.1888]) Cost: 5.971208\n",
            "Epoch   16/20 hypothesis: tensor([154.0385, 185.0956, 175.7229, 198.5966, 141.2012]) Cost: 5.967835\n",
            "Epoch   17/20 hypothesis: tensor([154.0459, 185.1045, 175.7326, 198.6059, 141.2082]) Cost: 5.964969\n",
            "Epoch   18/20 hypothesis: tensor([154.0501, 185.1094, 175.7386, 198.6108, 141.2122]) Cost: 5.962291\n",
            "Epoch   19/20 hypothesis: tensor([154.0524, 185.1120, 175.7424, 198.6134, 141.2145]) Cost: 5.959664\n",
            "Epoch   20/20 hypothesis: tensor([154.0536, 185.1134, 175.7451, 198.6145, 141.2158]) Cost: 5.957089\n"
          ]
        }
      ]
    },
    {
      "cell_type": "markdown",
      "metadata": {
        "id": "NQMUaNyar_z4"
      },
      "source": [
        "## 4) nn.Module로 구현하는 선형 회귀\n",
        "* 이전 까진 가설함수 / 비용함수를 직접 정의해서 구현했찌만, 파이토치 모델을 이용해서 쉽게 구현이 가능함"
      ]
    },
    {
      "cell_type": "code",
      "metadata": {
        "id": "-WJaBzmVrngd"
      },
      "source": [
        "import torch\n",
        "import torch.nn as nn\n",
        "import torch.nn.functional as F"
      ],
      "execution_count": 30,
      "outputs": []
    },
    {
      "cell_type": "code",
      "metadata": {
        "colab": {
          "base_uri": "https://localhost:8080/"
        },
        "id": "JXxgqDs3sRFb",
        "outputId": "9ad3f62c-7c30-4797-c14f-3620a08bd994"
      },
      "source": [
        "torch.manual_seed(1)"
      ],
      "execution_count": 31,
      "outputs": [
        {
          "output_type": "execute_result",
          "data": {
            "text/plain": [
              "<torch._C.Generator at 0x7fc8d8c032b0>"
            ]
          },
          "metadata": {},
          "execution_count": 31
        }
      ]
    },
    {
      "cell_type": "code",
      "metadata": {
        "id": "tx9erkWEsWHv"
      },
      "source": [
        "# 데이터\n",
        "x_train = torch.FloatTensor([[1],[2],[3]])\n",
        "y_train = torch.FloatTensor([[2],[4],[6]])"
      ],
      "execution_count": 33,
      "outputs": []
    },
    {
      "cell_type": "code",
      "metadata": {
        "id": "Wn6r4u-ysvbN"
      },
      "source": [
        "# 모델을 선언 및 초기화. 단순 선형 회귀이므로 input_dim = 1, output_dim = 1.\n",
        "model = nn.Linear(1,1)"
      ],
      "execution_count": 32,
      "outputs": []
    },
    {
      "cell_type": "code",
      "metadata": {
        "colab": {
          "base_uri": "https://localhost:8080/"
        },
        "id": "0WbmVgXms1CY",
        "outputId": "2ca22607-8c83-4ec0-ede7-101cdc9f7d06"
      },
      "source": [
        "print(list(model.parameters()))\n",
        "# 첫번째 값이 W / 두번째 값이 b => 두 값모두 랜덤으로 초기화 되어있음."
      ],
      "execution_count": 34,
      "outputs": [
        {
          "output_type": "stream",
          "name": "stdout",
          "text": [
            "[Parameter containing:\n",
            "tensor([[0.5153]], requires_grad=True), Parameter containing:\n",
            "tensor([-0.4414], requires_grad=True)]\n"
          ]
        }
      ]
    },
    {
      "cell_type": "code",
      "metadata": {
        "id": "yBqrRWMys5_9"
      },
      "source": [
        "# optimizer 설정. 경사하강법 SGD를 사용하고 learning rate(lr) == 0.01\n",
        "optimizer = torch.optim.SGD(model.parameters(), lr=0.01)"
      ],
      "execution_count": 36,
      "outputs": []
    },
    {
      "cell_type": "code",
      "metadata": {
        "colab": {
          "base_uri": "https://localhost:8080/"
        },
        "id": "09xZyslBtZ9M",
        "outputId": "f9f5fd81-3274-451f-b7df-e95e3040c330"
      },
      "source": [
        "# 전체 훈련 데이터에 대해 경사하강법 2,000회 반복\n",
        "num_epochs = 2000\n",
        "for epoch in range(num_epochs+1):\n",
        "    # H(x) 계산 \n",
        "  pred = model(x_train)\n",
        "\n",
        "    # cost 계산\n",
        "  cost =F.mse_loss(pred, y_train) # pytorch에서 제공하는 평균제곱오차 함수\n",
        "\n",
        "    # cost로 H(x) 개선하는 부분\n",
        "    # gradient를 0으로 초기화\n",
        "  optimizer.zero_grad()\n",
        "    # 비용 함수를 미분하여 gradient 계산\n",
        "  cost.backward()\n",
        "    # W와 b를 업데이트\n",
        "  optimizer.step()\n",
        "\n",
        "  if epoch % 100 == 0:\n",
        "    print('Epoch {:4d}/{} Cost: {:.6f}'.format(\n",
        "        epoch, num_epochs, cost.item()\n",
        "      ))"
      ],
      "execution_count": 37,
      "outputs": [
        {
          "output_type": "stream",
          "name": "stdout",
          "text": [
            "Epoch    0/2000 Cost: 13.103541\n",
            "Epoch  100/2000 Cost: 0.002791\n",
            "Epoch  200/2000 Cost: 0.001724\n",
            "Epoch  300/2000 Cost: 0.001066\n",
            "Epoch  400/2000 Cost: 0.000658\n",
            "Epoch  500/2000 Cost: 0.000407\n",
            "Epoch  600/2000 Cost: 0.000251\n",
            "Epoch  700/2000 Cost: 0.000155\n",
            "Epoch  800/2000 Cost: 0.000096\n",
            "Epoch  900/2000 Cost: 0.000059\n",
            "Epoch 1000/2000 Cost: 0.000037\n",
            "Epoch 1100/2000 Cost: 0.000023\n",
            "Epoch 1200/2000 Cost: 0.000014\n",
            "Epoch 1300/2000 Cost: 0.000009\n",
            "Epoch 1400/2000 Cost: 0.000005\n",
            "Epoch 1500/2000 Cost: 0.000003\n",
            "Epoch 1600/2000 Cost: 0.000002\n",
            "Epoch 1700/2000 Cost: 0.000001\n",
            "Epoch 1800/2000 Cost: 0.000001\n",
            "Epoch 1900/2000 Cost: 0.000000\n",
            "Epoch 2000/2000 Cost: 0.000000\n"
          ]
        }
      ]
    },
    {
      "cell_type": "code",
      "metadata": {
        "colab": {
          "base_uri": "https://localhost:8080/"
        },
        "id": "FFx4LhAAt1iw",
        "outputId": "2a490f2e-0791-4d9d-89fd-91e32c94b188"
      },
      "source": [
        "# 임의의 입력 4를 선언\n",
        "new_var = torch.FloatTensor([4.0])\n",
        "# 입력한 값 4에 대해서 예측값 y를 리턴 받아 pred_y에 저장\n",
        "pred_y = model(new_var)\n",
        "# y = 2x이므로 입력이 4일때 8에 가까운 값이 나와야 제대로 학습이 된 것\n",
        "print(\"훈련 후 입력이 4일 때의 예측값 : \", pred_y)"
      ],
      "execution_count": 38,
      "outputs": [
        {
          "output_type": "stream",
          "name": "stdout",
          "text": [
            "훈련 후 입력이 4일 때의 예측값 :  tensor([7.9989], grad_fn=<AddBackward0>)\n"
          ]
        }
      ]
    },
    {
      "cell_type": "code",
      "metadata": {
        "colab": {
          "base_uri": "https://localhost:8080/"
        },
        "id": "h6FJrlpet99A",
        "outputId": "7c8c8aed-a1dc-4ac7-acfb-4f709a69ff45"
      },
      "source": [
        "print(list(model.parameters()))"
      ],
      "execution_count": 39,
      "outputs": [
        {
          "output_type": "stream",
          "name": "stdout",
          "text": [
            "[Parameter containing:\n",
            "tensor([[1.9994]], requires_grad=True), Parameter containing:\n",
            "tensor([0.0014], requires_grad=True)]\n"
          ]
        }
      ]
    },
    {
      "cell_type": "markdown",
      "source": [
        "다중 선형 회귀 구현하기"
      ],
      "metadata": {
        "id": "o1muFnkiu0ov"
      }
    },
    {
      "cell_type": "code",
      "metadata": {
        "id": "SNVHEvD7uL2S"
      },
      "source": [
        "x_train = torch.FloatTensor([[73, 80, 75],\n",
        "                             [93, 88, 93],\n",
        "                             [89, 91, 90],\n",
        "                             [96, 98, 100],\n",
        "                             [73, 66, 70]])\n",
        "y_train = torch.FloatTensor([[152], [185], [180], [196], [142]])"
      ],
      "execution_count": 40,
      "outputs": []
    },
    {
      "cell_type": "code",
      "metadata": {
        "id": "A33mDTzpuYHJ"
      },
      "source": [
        "# 모델을 선언 및 초기화. 다중 선형 회귀이므로 input_dim=3, output_dim=1.\n",
        "model = nn.Linear(3,1)"
      ],
      "execution_count": 41,
      "outputs": []
    },
    {
      "cell_type": "code",
      "metadata": {
        "colab": {
          "base_uri": "https://localhost:8080/"
        },
        "id": "pu2wD7reucDP",
        "outputId": "840408ad-6f1d-4791-8f0c-1e4cf3432983"
      },
      "source": [
        "print(list(model.parameters()))"
      ],
      "execution_count": 42,
      "outputs": [
        {
          "output_type": "stream",
          "name": "stdout",
          "text": [
            "[Parameter containing:\n",
            "tensor([[-0.1119,  0.2710, -0.5435]], requires_grad=True), Parameter containing:\n",
            "tensor([0.3462], requires_grad=True)]\n"
          ]
        }
      ]
    },
    {
      "cell_type": "code",
      "metadata": {
        "id": "8a5qoYedufnr"
      },
      "source": [
        "optimizer = torch.optim.SGD(model.parameters(), lr=1e-5)"
      ],
      "execution_count": 43,
      "outputs": []
    },
    {
      "cell_type": "code",
      "metadata": {
        "colab": {
          "base_uri": "https://localhost:8080/"
        },
        "id": "Xcs-dnQRuw9p",
        "outputId": "c4ea28bf-9ccc-45d6-f9de-11004fd855c1"
      },
      "source": [
        "nb_epochs = 2000\n",
        "for epoch in range(nb_epochs+1):\n",
        "\n",
        "    # H(x) 계산\n",
        "    prediction = model(x_train)\n",
        "    # model(x_train)은 model.forward(x_train)와 동일함.\n",
        "\n",
        "    # cost 계산\n",
        "    cost = F.mse_loss(prediction, y_train) # <== 파이토치에서 제공하는 평균 제곱 오차 함수\n",
        "\n",
        "    # cost로 H(x) 개선하는 부분\n",
        "    # gradient를 0으로 초기화\n",
        "    optimizer.zero_grad()\n",
        "    # 비용 함수를 미분하여 gradient 계산\n",
        "    cost.backward()\n",
        "    # W와 b를 업데이트\n",
        "    optimizer.step()\n",
        "\n",
        "    if epoch % 100 == 0:\n",
        "    # 100번마다 로그 출력\n",
        "      print('Epoch {:4d}/{} Cost: {:.6f}'.format(\n",
        "          epoch, nb_epochs, cost.item()\n",
        "      ))"
      ],
      "execution_count": 44,
      "outputs": [
        {
          "output_type": "stream",
          "name": "stdout",
          "text": [
            "Epoch    0/2000 Cost: 42134.707031\n",
            "Epoch  100/2000 Cost: 5.960053\n",
            "Epoch  200/2000 Cost: 5.654707\n",
            "Epoch  300/2000 Cost: 5.365413\n",
            "Epoch  400/2000 Cost: 5.091429\n",
            "Epoch  500/2000 Cost: 4.831834\n",
            "Epoch  600/2000 Cost: 4.585997\n",
            "Epoch  700/2000 Cost: 4.353045\n",
            "Epoch  800/2000 Cost: 4.132426\n",
            "Epoch  900/2000 Cost: 3.923438\n",
            "Epoch 1000/2000 Cost: 3.725488\n",
            "Epoch 1100/2000 Cost: 3.537972\n",
            "Epoch 1200/2000 Cost: 3.360339\n",
            "Epoch 1300/2000 Cost: 3.192076\n",
            "Epoch 1400/2000 Cost: 3.032686\n",
            "Epoch 1500/2000 Cost: 2.881703\n",
            "Epoch 1600/2000 Cost: 2.738666\n",
            "Epoch 1700/2000 Cost: 2.603199\n",
            "Epoch 1800/2000 Cost: 2.474860\n",
            "Epoch 1900/2000 Cost: 2.353289\n",
            "Epoch 2000/2000 Cost: 2.238115\n"
          ]
        }
      ]
    },
    {
      "cell_type": "code",
      "metadata": {
        "colab": {
          "base_uri": "https://localhost:8080/"
        },
        "id": "8s7VeuIMuxei",
        "outputId": "bb2a4c08-06e4-4aa5-ae05-a99588923359"
      },
      "source": [
        "new_var =  torch.FloatTensor([[73, 80, 75]]) \n",
        "# 입력한 값 [73, 80, 75]에 대해서 예측값 y를 리턴받아서 pred_y에 저장\n",
        "pred_y = model(new_var) \n",
        "print(\"훈련 후 입력이 73, 80, 75일 때의 예측값 :\", pred_y) "
      ],
      "execution_count": 45,
      "outputs": [
        {
          "output_type": "stream",
          "name": "stdout",
          "text": [
            "훈련 후 입력이 73, 80, 75일 때의 예측값 : tensor([[153.7184]], grad_fn=<AddmmBackward0>)\n"
          ]
        }
      ]
    },
    {
      "cell_type": "code",
      "metadata": {
        "id": "98ZfY-xHu4hX",
        "colab": {
          "base_uri": "https://localhost:8080/"
        },
        "outputId": "e9de70cb-319a-45d7-c1bb-377e48a1a6e7"
      },
      "source": [
        "print(list(model.parameters()))"
      ],
      "execution_count": 46,
      "outputs": [
        {
          "output_type": "stream",
          "name": "stdout",
          "text": [
            "[Parameter containing:\n",
            "tensor([[0.8541, 0.8475, 0.3096]], requires_grad=True), Parameter containing:\n",
            "tensor([0.3568], requires_grad=True)]\n"
          ]
        }
      ]
    },
    {
      "cell_type": "markdown",
      "metadata": {
        "id": "SyrvLYs2K24x"
      },
      "source": [
        "## 5) 클래스로 파이토치 모델 구현하기"
      ]
    },
    {
      "cell_type": "code",
      "metadata": {
        "id": "JPBBPRhTu7Vt"
      },
      "source": [
        "# 모델을 선언 및 초기화. 단순 선형 회귀이므로 input_dim=1, output_dim=1.\n",
        "model = nn.Linear(1,1)"
      ],
      "execution_count": 47,
      "outputs": []
    },
    {
      "cell_type": "code",
      "metadata": {
        "id": "zL9mDGiyK-N_"
      },
      "source": [
        "class LinearRegressionModel(nn.Module):\n",
        "  def __init__(self): # init에서 모델의 구조와 동적을 정의하는 생성자를 정의\n",
        "    super().__init__() # nn.Module의 속성을 갖게 됨\n",
        "    self.linear = nn.Linear(1, 1)\n",
        "\n",
        "  def forward(self, x): # model객체를 데이터와 함께 호출하면 자동으로 실행 됨\n",
        "    return self.linear(x)"
      ],
      "execution_count": 48,
      "outputs": []
    },
    {
      "cell_type": "code",
      "metadata": {
        "id": "uIFlxRbOLUUx"
      },
      "source": [
        "model = LinearRegressionModel()"
      ],
      "execution_count": 49,
      "outputs": []
    },
    {
      "cell_type": "code",
      "metadata": {
        "id": "N0lzz3FMLYRu"
      },
      "source": [
        "# 모델을 선언 및 초기화. 다중 선형 회귀이므로 input_dim=3, output_dim=1.\n",
        "model = nn.Linear(3, 1)"
      ],
      "execution_count": 50,
      "outputs": []
    },
    {
      "cell_type": "code",
      "metadata": {
        "id": "t-hoyacGL180"
      },
      "source": [
        "class MultivariateLinearRegressionModel(nn.Module):\n",
        "    def __init__(self):\n",
        "        super().__init__()\n",
        "        self.linear = nn.Linear(3, 1) # 다중 선형 회귀이므로 input_dim=3, output_dim=1.\n",
        "\n",
        "    def forward(self, x):\n",
        "        return self.linear(x)"
      ],
      "execution_count": 51,
      "outputs": []
    },
    {
      "cell_type": "code",
      "metadata": {
        "id": "jjh4oUAGMLSs"
      },
      "source": [
        "model = MultivariateLinearRegressionModel()"
      ],
      "execution_count": 52,
      "outputs": []
    },
    {
      "cell_type": "code",
      "metadata": {
        "colab": {
          "base_uri": "https://localhost:8080/"
        },
        "id": "sbl7rlNwMMpl",
        "outputId": "5d1e2583-887e-4e4b-b8c5-7df1b5d2ed44"
      },
      "source": [
        "torch.manual_seed(1)"
      ],
      "execution_count": 53,
      "outputs": [
        {
          "output_type": "execute_result",
          "data": {
            "text/plain": [
              "<torch._C.Generator at 0x7fc8d8c032b0>"
            ]
          },
          "metadata": {},
          "execution_count": 53
        }
      ]
    },
    {
      "cell_type": "code",
      "metadata": {
        "id": "BqkKYLAbNT99"
      },
      "source": [
        "x_train = torch.FloatTensor([[1], [2], [3]])\n",
        "y_train = torch.FloatTensor([[2], [4], [6]])"
      ],
      "execution_count": 54,
      "outputs": []
    },
    {
      "cell_type": "code",
      "metadata": {
        "id": "fDdsPl1tNWMZ"
      },
      "source": [
        "class LinearRegressionModel(nn.Module):\n",
        "  def __init__(self):\n",
        "    super().__init__()\n",
        "    self.linear = nn.Linear(1, 1)\n",
        "\n",
        "  def forward(self, x):\n",
        "    return self.linear(x)"
      ],
      "execution_count": 55,
      "outputs": []
    },
    {
      "cell_type": "code",
      "metadata": {
        "id": "7fQwuV-TNlAe"
      },
      "source": [
        "model = LinearRegressionModel()"
      ],
      "execution_count": 56,
      "outputs": []
    },
    {
      "cell_type": "code",
      "metadata": {
        "id": "rpgeDSfcNoPL"
      },
      "source": [
        "optimizer = optim.SGD(model.parameters(), lr=0.01)"
      ],
      "execution_count": 57,
      "outputs": []
    },
    {
      "cell_type": "code",
      "metadata": {
        "colab": {
          "base_uri": "https://localhost:8080/"
        },
        "id": "6G_f5RT5NwX1",
        "outputId": "0bda512b-14ef-4f54-dac0-5a4edf42d795"
      },
      "source": [
        "num_epochs = 2000\n",
        "for epoch in range(num_epochs + 1):\n",
        "  pred = model(x_train)\n",
        "  cost = F.mse_loss(pred, y_train)\n",
        "\n",
        "  optimizer.zero_grad()\n",
        "  cost.backward()\n",
        "  optimizer.step()\n",
        "\n",
        "  if epoch % 100 == 0:\n",
        "    print(\"Epoch {:4d}/{} Cost:{:6f}\".format(epoch, num_epochs, cost.item()))"
      ],
      "execution_count": 58,
      "outputs": [
        {
          "output_type": "stream",
          "name": "stdout",
          "text": [
            "Epoch    0/2000 Cost:13.103541\n",
            "Epoch  100/2000 Cost:0.002791\n",
            "Epoch  200/2000 Cost:0.001724\n",
            "Epoch  300/2000 Cost:0.001066\n",
            "Epoch  400/2000 Cost:0.000658\n",
            "Epoch  500/2000 Cost:0.000407\n",
            "Epoch  600/2000 Cost:0.000251\n",
            "Epoch  700/2000 Cost:0.000155\n",
            "Epoch  800/2000 Cost:0.000096\n",
            "Epoch  900/2000 Cost:0.000059\n",
            "Epoch 1000/2000 Cost:0.000037\n",
            "Epoch 1100/2000 Cost:0.000023\n",
            "Epoch 1200/2000 Cost:0.000014\n",
            "Epoch 1300/2000 Cost:0.000009\n",
            "Epoch 1400/2000 Cost:0.000005\n",
            "Epoch 1500/2000 Cost:0.000003\n",
            "Epoch 1600/2000 Cost:0.000002\n",
            "Epoch 1700/2000 Cost:0.000001\n",
            "Epoch 1800/2000 Cost:0.000001\n",
            "Epoch 1900/2000 Cost:0.000000\n",
            "Epoch 2000/2000 Cost:0.000000\n"
          ]
        }
      ]
    },
    {
      "cell_type": "code",
      "metadata": {
        "id": "LHAP0W-eOcc7"
      },
      "source": [
        "x_train = torch.FloatTensor([[73, 80, 75],\n",
        "                             [93, 88, 93],\n",
        "                             [89, 91, 90],\n",
        "                             [96, 98, 100],\n",
        "                             [73, 66, 70]])\n",
        "y_train = torch.FloatTensor([[152], [185], [180], [196], [142]])"
      ],
      "execution_count": 59,
      "outputs": []
    },
    {
      "cell_type": "code",
      "metadata": {
        "id": "OuXFTKwWOmgk"
      },
      "source": [
        "class MultivariateLinearRegressionModel(nn.Module):\n",
        "    def __init__(self):\n",
        "        super().__init__()\n",
        "        self.linear = nn.Linear(3, 1) # 다중 선형 회귀이므로 input_dim=3, output_dim=1.\n",
        "\n",
        "    def forward(self, x):\n",
        "        return self.linear(x)"
      ],
      "execution_count": 60,
      "outputs": []
    },
    {
      "cell_type": "code",
      "metadata": {
        "id": "KsNZ3svKOoBd"
      },
      "source": [
        "model = MultivariateLinearRegressionModel()\n",
        "optimizer = optim.SGD(model.parameters(), lr=1e-5)"
      ],
      "execution_count": 61,
      "outputs": []
    },
    {
      "cell_type": "code",
      "metadata": {
        "colab": {
          "base_uri": "https://localhost:8080/"
        },
        "id": "kVFIilSWOxmz",
        "outputId": "9b5cece2-7158-421b-a6ae-d4ec05bbe45d"
      },
      "source": [
        "num_epochs = 2000\n",
        "for epoch in range(num_epochs + 1):\n",
        "  pred = model(x_train)\n",
        "  cost = F.mse_loss(pred, y_train)\n",
        "\n",
        "  optimizer.zero_grad()\n",
        "  cost.backward()\n",
        "  optimizer.step()\n",
        "\n",
        "  if epoch % 100 == 0:\n",
        "    print(\"Epoch {:4d}/{} Cost:{:6f}\".format(epoch, num_epochs, cost.item()))"
      ],
      "execution_count": 62,
      "outputs": [
        {
          "output_type": "stream",
          "name": "stdout",
          "text": [
            "Epoch    0/2000 Cost:42134.707031\n",
            "Epoch  100/2000 Cost:5.960053\n",
            "Epoch  200/2000 Cost:5.654707\n",
            "Epoch  300/2000 Cost:5.365413\n",
            "Epoch  400/2000 Cost:5.091429\n",
            "Epoch  500/2000 Cost:4.831834\n",
            "Epoch  600/2000 Cost:4.585997\n",
            "Epoch  700/2000 Cost:4.353045\n",
            "Epoch  800/2000 Cost:4.132426\n",
            "Epoch  900/2000 Cost:3.923438\n",
            "Epoch 1000/2000 Cost:3.725488\n",
            "Epoch 1100/2000 Cost:3.537972\n",
            "Epoch 1200/2000 Cost:3.360339\n",
            "Epoch 1300/2000 Cost:3.192076\n",
            "Epoch 1400/2000 Cost:3.032686\n",
            "Epoch 1500/2000 Cost:2.881703\n",
            "Epoch 1600/2000 Cost:2.738666\n",
            "Epoch 1700/2000 Cost:2.603199\n",
            "Epoch 1800/2000 Cost:2.474860\n",
            "Epoch 1900/2000 Cost:2.353289\n",
            "Epoch 2000/2000 Cost:2.238115\n"
          ]
        }
      ]
    },
    {
      "cell_type": "markdown",
      "metadata": {
        "id": "BbI9mkT3PV-0"
      },
      "source": [
        "### 6) 미니 배치와 데이터 로드"
      ]
    },
    {
      "cell_type": "code",
      "metadata": {
        "id": "a2O8UHO-IFDV"
      },
      "source": [
        "from torch.utils.data import TensorDataset \n",
        "# TensorDataset은 기본적으로 텐서를 입력으로 받음\n",
        "from torch.utils.data import DataLoader"
      ],
      "execution_count": 63,
      "outputs": []
    },
    {
      "cell_type": "code",
      "metadata": {
        "id": "FMUJTLZXJ1aT"
      },
      "source": [
        "x_train = torch.FloatTensor([[73, 80, 75],\n",
        "                             [93, 88, 93],\n",
        "                             [89, 91, 90],\n",
        "                             [96, 98, 100],\n",
        "                             [73, 66, 70]])\n",
        "y_train = torch.FloatTensor([[152], [185], [180], [196], [142]])"
      ],
      "execution_count": 64,
      "outputs": []
    },
    {
      "cell_type": "code",
      "metadata": {
        "id": "HgoMPVwoJ7wz"
      },
      "source": [
        "dataset = TensorDataset(x_train, y_train)"
      ],
      "execution_count": 65,
      "outputs": []
    },
    {
      "cell_type": "code",
      "metadata": {
        "id": "Qn86mtxDKP1D"
      },
      "source": [
        "dataloader = DataLoader(dataset, batch_size=2, shuffle=True)"
      ],
      "execution_count": 66,
      "outputs": []
    },
    {
      "cell_type": "code",
      "metadata": {
        "id": "j6BS89LgKVd-"
      },
      "source": [
        "model = nn.Linear(3, 1)\n",
        "optimizer = optim.SGD(model.parameters(), lr=1e-5)"
      ],
      "execution_count": 67,
      "outputs": []
    },
    {
      "cell_type": "code",
      "metadata": {
        "colab": {
          "base_uri": "https://localhost:8080/"
        },
        "id": "ltPn-CFvKf8e",
        "outputId": "0f210bbe-3b64-481a-d763-013e91f60e2d"
      },
      "source": [
        "num_epochs = 20\n",
        "for epoch in range(num_epochs + 1):\n",
        "  for batch_index, samples in enumerate(dataloader):\n",
        "    x_train, y_train = samples\n",
        "    pred = model(x_train)\n",
        "    cost = F.mse_loss(pred, y_train)\n",
        "\n",
        "    optimizer.zero_grad()\n",
        "    cost.backward()\n",
        "    optimizer.step()\n",
        "\n",
        "    print('Epoch {:4d}/{} Batch {}/{} Cost: {:.6f}'.format(\n",
        "        epoch, num_epochs, batch_index+1, len(dataloader),\n",
        "        cost.item()))"
      ],
      "execution_count": 71,
      "outputs": [
        {
          "output_type": "stream",
          "name": "stdout",
          "text": [
            "Epoch    0/20 Batch 1/3 Cost: 1.372933\n",
            "Epoch    0/20 Batch 2/3 Cost: 15.839283\n",
            "Epoch    0/20 Batch 3/3 Cost: 3.271894\n",
            "Epoch    1/20 Batch 1/3 Cost: 4.369859\n",
            "Epoch    1/20 Batch 2/3 Cost: 3.318158\n",
            "Epoch    1/20 Batch 3/3 Cost: 15.500782\n",
            "Epoch    2/20 Batch 1/3 Cost: 6.320694\n",
            "Epoch    2/20 Batch 2/3 Cost: 4.360378\n",
            "Epoch    2/20 Batch 3/3 Cost: 10.989343\n",
            "Epoch    3/20 Batch 1/3 Cost: 9.303133\n",
            "Epoch    3/20 Batch 2/3 Cost: 6.654787\n",
            "Epoch    3/20 Batch 3/3 Cost: 4.576920\n",
            "Epoch    4/20 Batch 1/3 Cost: 7.399328\n",
            "Epoch    4/20 Batch 2/3 Cost: 8.010064\n",
            "Epoch    4/20 Batch 3/3 Cost: 5.060166\n",
            "Epoch    5/20 Batch 1/3 Cost: 8.921635\n",
            "Epoch    5/20 Batch 2/3 Cost: 9.196697\n",
            "Epoch    5/20 Batch 3/3 Cost: 5.979702\n",
            "Epoch    6/20 Batch 1/3 Cost: 5.175063\n",
            "Epoch    6/20 Batch 2/3 Cost: 2.191794\n",
            "Epoch    6/20 Batch 3/3 Cost: 14.769370\n",
            "Epoch    7/20 Batch 1/3 Cost: 7.692922\n",
            "Epoch    7/20 Batch 2/3 Cost: 3.770699\n",
            "Epoch    7/20 Batch 3/3 Cost: 3.492603\n",
            "Epoch    8/20 Batch 1/3 Cost: 4.202168\n",
            "Epoch    8/20 Batch 2/3 Cost: 6.494361\n",
            "Epoch    8/20 Batch 3/3 Cost: 5.751917\n",
            "Epoch    9/20 Batch 1/3 Cost: 1.427640\n",
            "Epoch    9/20 Batch 2/3 Cost: 8.975370\n",
            "Epoch    9/20 Batch 3/3 Cost: 7.708130\n",
            "Epoch   10/20 Batch 1/3 Cost: 4.304785\n",
            "Epoch   10/20 Batch 2/3 Cost: 12.348855\n",
            "Epoch   10/20 Batch 3/3 Cost: 2.165168\n",
            "Epoch   11/20 Batch 1/3 Cost: 0.606576\n",
            "Epoch   11/20 Batch 2/3 Cost: 13.860100\n",
            "Epoch   11/20 Batch 3/3 Cost: 7.130520\n",
            "Epoch   12/20 Batch 1/3 Cost: 7.166040\n",
            "Epoch   12/20 Batch 2/3 Cost: 3.766400\n",
            "Epoch   12/20 Batch 3/3 Cost: 5.378399\n",
            "Epoch   13/20 Batch 1/3 Cost: 7.768031\n",
            "Epoch   13/20 Batch 2/3 Cost: 3.851993\n",
            "Epoch   13/20 Batch 3/3 Cost: 5.212250\n",
            "Epoch   14/20 Batch 1/3 Cost: 1.282745\n",
            "Epoch   14/20 Batch 2/3 Cost: 9.105684\n",
            "Epoch   14/20 Batch 3/3 Cost: 7.856688\n",
            "Epoch   15/20 Batch 1/3 Cost: 5.519755\n",
            "Epoch   15/20 Batch 2/3 Cost: 8.011984\n",
            "Epoch   15/20 Batch 3/3 Cost: 5.462879\n",
            "Epoch   16/20 Batch 1/3 Cost: 5.997042\n",
            "Epoch   16/20 Batch 2/3 Cost: 5.326440\n",
            "Epoch   16/20 Batch 3/3 Cost: 4.873210\n",
            "Epoch   17/20 Batch 1/3 Cost: 4.291026\n",
            "Epoch   17/20 Batch 2/3 Cost: 7.720127\n",
            "Epoch   17/20 Batch 3/3 Cost: 2.702376\n",
            "Epoch   18/20 Batch 1/3 Cost: 8.529786\n",
            "Epoch   18/20 Batch 2/3 Cost: 4.046248\n",
            "Epoch   18/20 Batch 3/3 Cost: 1.961650\n",
            "Epoch   19/20 Batch 1/3 Cost: 11.465322\n",
            "Epoch   19/20 Batch 2/3 Cost: 6.330890\n",
            "Epoch   19/20 Batch 3/3 Cost: 1.264424\n",
            "Epoch   20/20 Batch 1/3 Cost: 8.002370\n",
            "Epoch   20/20 Batch 2/3 Cost: 5.178817\n",
            "Epoch   20/20 Batch 3/3 Cost: 1.744757\n"
          ]
        }
      ]
    },
    {
      "cell_type": "code",
      "metadata": {
        "colab": {
          "base_uri": "https://localhost:8080/"
        },
        "id": "y6YD9QsmLq3k",
        "outputId": "71fec971-dfa8-4388-d4bc-7c0e8bca82b3"
      },
      "source": [
        "new_var = torch.FloatTensor([[73, 80, 75]])\n",
        "pred = model(new_var)\n",
        "print(\"훈련 후 입력이 73, 80, 75일 때의 예측값 :\", pred)"
      ],
      "execution_count": 72,
      "outputs": [
        {
          "output_type": "stream",
          "name": "stdout",
          "text": [
            "훈련 후 입력이 73, 80, 75일 때의 예측값 : tensor([[153.5801]], grad_fn=<AddmmBackward0>)\n"
          ]
        }
      ]
    },
    {
      "cell_type": "markdown",
      "metadata": {
        "id": "BveBDdSrME_z"
      },
      "source": [
        "### 07) 커스텀 데이터셋"
      ]
    },
    {
      "cell_type": "code",
      "source": [
        "import torch\n",
        "import torch.nn.functional as F\n",
        "from torch.utils.data import Dataset\n",
        "from torch.utils.data import DataLoader"
      ],
      "metadata": {
        "id": "PnH5jTCnwp9Z"
      },
      "execution_count": 75,
      "outputs": []
    },
    {
      "cell_type": "code",
      "metadata": {
        "id": "TAX5RggbMH6x"
      },
      "source": [
        "class CustomDataset(Dataset):\n",
        "  def __init__(self):\n",
        "    self.x_data = [[73, 80, 75],\n",
        "                   [93, 88, 93],\n",
        "                   [89, 91, 90],\n",
        "                   [96, 98, 100],\n",
        "                   [73, 66, 70]]\n",
        "    self.y_data = [[152], [185], [180], [196], [142]]\n",
        "\n",
        "  # 총 데이터의 개수를 리턴\n",
        "  def __len__(self): \n",
        "    return len(self.x_data)\n",
        "\n",
        "  # 인덱스를 입력받아 그에 맵핑되는 입출력 데이터를 파이토치의 Tensor 형태로 리턴\n",
        "  def __getitem__(self, idx): \n",
        "    x = torch.FloatTensor(self.x_data[idx])\n",
        "    y = torch.FloatTensor(self.y_data[idx])\n",
        "    return x, y"
      ],
      "execution_count": 76,
      "outputs": []
    },
    {
      "cell_type": "code",
      "metadata": {
        "id": "Tn9i5LfMMsm1"
      },
      "source": [
        "dataset = CustomDataset()\n",
        "dataloader = DataLoader(dataset, batch_size=2, shuffle=True)"
      ],
      "execution_count": 77,
      "outputs": []
    },
    {
      "cell_type": "code",
      "metadata": {
        "id": "tAYIuCnjPmBa"
      },
      "source": [
        "model = torch.nn.Linear(3, 1)\n",
        "optimizer = optim.SGD(model.parameters(), lr=1e-5)"
      ],
      "execution_count": 78,
      "outputs": []
    },
    {
      "cell_type": "code",
      "metadata": {
        "colab": {
          "base_uri": "https://localhost:8080/"
        },
        "id": "nIpeD8FhPzmJ",
        "outputId": "4313c99f-8ede-4a2d-afe3-390d945d84a1"
      },
      "source": [
        "nb_epochs = 20\n",
        "for epoch in range(nb_epochs + 1):\n",
        "  for batch_idx, samples in enumerate(dataloader):\n",
        "    # print(batch_idx)\n",
        "    # print(samples)\n",
        "    x_train, y_train = samples\n",
        "    # H(x) 계산\n",
        "    prediction = model(x_train)\n",
        "\n",
        "    # cost 계산\n",
        "    cost = F.mse_loss(prediction, y_train)\n",
        "\n",
        "    # cost로 H(x) 계산\n",
        "    optimizer.zero_grad()\n",
        "    cost.backward()\n",
        "    optimizer.step()\n",
        "\n",
        "    print('Epoch {:4d}/{} Batch {}/{} Cost: {:.6f}'.format(\n",
        "        epoch, nb_epochs, batch_idx+1, len(dataloader),\n",
        "        cost.item()\n",
        "        ))"
      ],
      "execution_count": 79,
      "outputs": [
        {
          "output_type": "stream",
          "name": "stdout",
          "text": [
            "Epoch    0/20 Batch 1/3 Cost: 29741.207031\n",
            "Epoch    0/20 Batch 2/3 Cost: 14087.835938\n",
            "Epoch    0/20 Batch 3/3 Cost: 1983.394409\n",
            "Epoch    1/20 Batch 1/3 Cost: 1242.293579\n",
            "Epoch    1/20 Batch 2/3 Cost: 251.620331\n",
            "Epoch    1/20 Batch 3/3 Cost: 91.625053\n",
            "Epoch    2/20 Batch 1/3 Cost: 68.248199\n",
            "Epoch    2/20 Batch 2/3 Cost: 2.396711\n",
            "Epoch    2/20 Batch 3/3 Cost: 50.977848\n",
            "Epoch    3/20 Batch 1/3 Cost: 2.483560\n",
            "Epoch    3/20 Batch 2/3 Cost: 16.026699\n",
            "Epoch    3/20 Batch 3/3 Cost: 27.891279\n",
            "Epoch    4/20 Batch 1/3 Cost: 7.736950\n",
            "Epoch    4/20 Batch 2/3 Cost: 17.100727\n",
            "Epoch    4/20 Batch 3/3 Cost: 28.811943\n",
            "Epoch    5/20 Batch 1/3 Cost: 12.338020\n",
            "Epoch    5/20 Batch 2/3 Cost: 7.836611\n",
            "Epoch    5/20 Batch 3/3 Cost: 24.316565\n",
            "Epoch    6/20 Batch 1/3 Cost: 10.835608\n",
            "Epoch    6/20 Batch 2/3 Cost: 9.991157\n",
            "Epoch    6/20 Batch 3/3 Cost: 34.378067\n",
            "Epoch    7/20 Batch 1/3 Cost: 12.275399\n",
            "Epoch    7/20 Batch 2/3 Cost: 27.210842\n",
            "Epoch    7/20 Batch 3/3 Cost: 3.677726\n",
            "Epoch    8/20 Batch 1/3 Cost: 10.696073\n",
            "Epoch    8/20 Batch 2/3 Cost: 19.873150\n",
            "Epoch    8/20 Batch 3/3 Cost: 4.070313\n",
            "Epoch    9/20 Batch 1/3 Cost: 15.577198\n",
            "Epoch    9/20 Batch 2/3 Cost: 1.830109\n",
            "Epoch    9/20 Batch 3/3 Cost: 32.700264\n",
            "Epoch   10/20 Batch 1/3 Cost: 16.284658\n",
            "Epoch   10/20 Batch 2/3 Cost: 14.914071\n",
            "Epoch   10/20 Batch 3/3 Cost: 12.553817\n",
            "Epoch   11/20 Batch 1/3 Cost: 8.316326\n",
            "Epoch   11/20 Batch 2/3 Cost: 12.532961\n",
            "Epoch   11/20 Batch 3/3 Cost: 25.494518\n",
            "Epoch   12/20 Batch 1/3 Cost: 10.557687\n",
            "Epoch   12/20 Batch 2/3 Cost: 9.449458\n",
            "Epoch   12/20 Batch 3/3 Cost: 33.879059\n",
            "Epoch   13/20 Batch 1/3 Cost: 15.001316\n",
            "Epoch   13/20 Batch 2/3 Cost: 5.901420\n",
            "Epoch   13/20 Batch 3/3 Cost: 28.316442\n",
            "Epoch   14/20 Batch 1/3 Cost: 12.495874\n",
            "Epoch   14/20 Batch 2/3 Cost: 17.650509\n",
            "Epoch   14/20 Batch 3/3 Cost: 17.554203\n",
            "Epoch   15/20 Batch 1/3 Cost: 11.266212\n",
            "Epoch   15/20 Batch 2/3 Cost: 19.743126\n",
            "Epoch   15/20 Batch 3/3 Cost: 29.151035\n",
            "Epoch   16/20 Batch 1/3 Cost: 7.141844\n",
            "Epoch   16/20 Batch 2/3 Cost: 32.015739\n",
            "Epoch   16/20 Batch 3/3 Cost: 6.684390\n",
            "Epoch   17/20 Batch 1/3 Cost: 1.534687\n",
            "Epoch   17/20 Batch 2/3 Cost: 20.851851\n",
            "Epoch   17/20 Batch 3/3 Cost: 18.575815\n",
            "Epoch   18/20 Batch 1/3 Cost: 10.769320\n",
            "Epoch   18/20 Batch 2/3 Cost: 14.496603\n",
            "Epoch   18/20 Batch 3/3 Cost: 23.677633\n",
            "Epoch   19/20 Batch 1/3 Cost: 21.395929\n",
            "Epoch   19/20 Batch 2/3 Cost: 14.020365\n",
            "Epoch   19/20 Batch 3/3 Cost: 11.124306\n",
            "Epoch   20/20 Batch 1/3 Cost: 22.738747\n",
            "Epoch   20/20 Batch 2/3 Cost: 19.256493\n",
            "Epoch   20/20 Batch 3/3 Cost: 12.360263\n"
          ]
        }
      ]
    },
    {
      "cell_type": "code",
      "metadata": {
        "colab": {
          "base_uri": "https://localhost:8080/"
        },
        "id": "Y11JwJjYQX1Y",
        "outputId": "a2175d20-7e87-4581-d473-b56e8c38a942"
      },
      "source": [
        "new_var =  torch.FloatTensor([[73, 80, 75]]) \n",
        "# 입력한 값 [73, 80, 75]에 대해서 예측값 y를 리턴받아서 pred_y에 저장\n",
        "pred_y = model(new_var) \n",
        "print(\"훈련 후 입력이 73, 80, 75일 때의 예측값 :\", pred_y) "
      ],
      "execution_count": 80,
      "outputs": [
        {
          "output_type": "stream",
          "name": "stdout",
          "text": [
            "훈련 후 입력이 73, 80, 75일 때의 예측값 : tensor([[155.8178]], grad_fn=<AddmmBackward0>)\n"
          ]
        }
      ]
    }
  ]
}